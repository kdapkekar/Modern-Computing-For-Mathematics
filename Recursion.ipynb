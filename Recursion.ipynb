{
 "cells": [
  {
   "cell_type": "markdown",
   "metadata": {},
   "source": [
    "# Exercise 4: Recursion"
   ]
  },
  {
   "cell_type": "markdown",
   "metadata": {},
   "source": [
    "**Exercise 1:** Write a program that takes in two integers and calculates the $n$-th Fibonacci sum recursively, i.e., insteade of starting with 0,1,1,2,3,..., use 0,n,m,n+m,(n + m) + m,.... Write another program that does the same thing but using a loop."
   ]
  },
  {
   "cell_type": "code",
   "execution_count": 1,
   "metadata": {
    "cocalc": {
     "outputs": {
      "0": {
       "name": "input",
       "opts": {
        "password": false,
        "prompt": "Enter the 1st number:"
       },
       "output_type": "stream",
       "value": "4"
      },
      "1": {
       "name": "input",
       "opts": {
        "password": false,
        "prompt": "Enter the 2nd number:"
       },
       "output_type": "stream",
       "value": "3"
      }
     }
    },
    "scrolled": true
   },
   "outputs": [
    {
     "name": "stdout",
     "output_type": "stream",
     "text": [
      "Enter the 1st number: 4Enter the 2nd number: 3The nth fibonacci for integers 4 and 3 is:\n",
      "0,4,3,7,10,17,27,44,71,"
     ]
    }
   ],
   "source": [
    "n = int(input('Enter the 1st number:'))\n",
    "m = int(input('Enter the 2nd number:'))\n",
    "n1 = n\n",
    "n2 = m\n",
    "count = 0\n",
    "print('The nth fibonacci for integers', n, 'and', m, 'is:')\n",
    "print(0,end=',')\n",
    "def fib(n1,n2):\n",
    "    global n,m,count\n",
    "    while count < n:\n",
    "        count += 1\n",
    "        print(n1,end=',')\n",
    "        print(n2,end=',')\n",
    "        t = n1 + n2\n",
    "        fib(t,t+n2)\n",
    "fib(n1,n2)"
   ]
  },
  {
   "cell_type": "code",
   "execution_count": 2,
   "metadata": {
    "cocalc": {
     "outputs": {
      "0": {
       "name": "input",
       "opts": {
        "password": false,
        "prompt": "Enter the 1st number:"
       },
       "output_type": "stream",
       "value": "5"
      },
      "1": {
       "name": "input",
       "opts": {
        "password": false,
        "prompt": "Enter the 2nd number:"
       },
       "output_type": "stream",
       "value": "6"
      }
     }
    },
    "scrolled": true
   },
   "outputs": [
    {
     "name": "stdout",
     "output_type": "stream",
     "text": [
      "Enter the 1st number: 5Enter the 2nd number: 60,5,6,11,17,28,45,73,118,191,309,"
     ]
    }
   ],
   "source": [
    "n = int(input('Enter the 1st number:'))\n",
    "m = int(input('Enter the 2nd number:'))\n",
    "count = 0\n",
    "print(0,end=',')\n",
    "n1 = n\n",
    "m1 = m\n",
    "while count < n:\n",
    "    print(n1,end=',')\n",
    "    print(m1,end=',')\n",
    "    l = n1+m1\n",
    "    n1 = l\n",
    "    m1 = l + m1\n",
    "    count += 1"
   ]
  },
  {
   "cell_type": "markdown",
   "metadata": {},
   "source": [
    "**Exercise 2:** Write a program that calculates $n!!$ recursively. As a reminder, this is defined iteratively as $$n!!=n*(n-2)*(n-4)*...$$ Make sure your program handles even and odd cases."
   ]
  },
  {
   "cell_type": "code",
   "execution_count": 20,
   "metadata": {
    "cocalc": {
     "outputs": {
      "0": {
       "name": "input",
       "opts": {
        "password": false,
        "prompt": "Enter the number:"
       },
       "output_type": "stream",
       "value": "5"
      }
     }
    }
   },
   "outputs": [
    {
     "name": "stdout",
     "output_type": "stream",
     "text": [
      "Enter the number: 5n!! for 5 is 15\n"
     ]
    }
   ],
   "source": [
    "def fact(n):\n",
    "    if n < 1:\n",
    "        print('Cannot calculate.')\n",
    "    elif n == 2:\n",
    "        return 2\n",
    "    elif n == 1:\n",
    "        return 1\n",
    "    else:\n",
    "        return n * fact(n-2)\n",
    "num = int(input('Enter the number:'))\n",
    "print('n!! for',num ,'is', fact(num))"
   ]
  },
  {
   "cell_type": "markdown",
   "metadata": {},
   "source": [
    "\n",
    "**Exercise 3:** Write a recursive function that takes returns the sum of all non-negative integers up to $n$."
   ]
  },
  {
   "cell_type": "code",
   "execution_count": 1,
   "metadata": {
    "cocalc": {
     "outputs": {
      "0": {
       "name": "input",
       "opts": {
        "password": false,
        "prompt": "Enter the number:"
       },
       "output_type": "stream",
       "value": "4"
      }
     }
    }
   },
   "outputs": [
    {
     "name": "stdout",
     "output_type": "stream",
     "text": [
      "Enter the number: 4The sum of all non-negative number upto 4 is: 10\n"
     ]
    }
   ],
   "source": [
    "def rec_sum(n1):\n",
    "    if n1 <= 1:\n",
    "        return 1\n",
    "    else:\n",
    "        return n1+rec_sum(n1-1)\n",
    "n = int(input('Enter the number:'))\n",
    "if n < 0:\n",
    "    print('Enter a non negative number')\n",
    "else:\n",
    "    print('The sum of all non-negative number upto', n, 'is:', rec_sum(n))"
   ]
  },
  {
   "cell_type": "markdown",
   "metadata": {},
   "source": [
    "**Exercise 4:** Write a recursive function that takes in two positive integers $n,m$ and multiplies them.(Don't just return $n*m$!)"
   ]
  },
  {
   "cell_type": "code",
   "execution_count": 11,
   "metadata": {
    "cocalc": {
     "outputs": {
      "0": {
       "name": "input",
       "opts": {
        "password": false,
        "prompt": "Enter the 1st number:"
       },
       "output_type": "stream",
       "value": "4"
      },
      "1": {
       "name": "input",
       "opts": {
        "password": false,
        "prompt": "Enter the 2nd number:"
       },
       "output_type": "stream",
       "value": "5"
      }
     }
    }
   },
   "outputs": [
    {
     "name": "stdout",
     "output_type": "stream",
     "text": [
      "Enter the 1st number: 4Enter the 2nd number: 520\n"
     ]
    }
   ],
   "source": [
    "def mult(n1,m1):\n",
    "        if n1 == 0:\n",
    "            return 0\n",
    "        elif n1 == 1:\n",
    "            return m1\n",
    "        elif n1!=0:\n",
    "            return m1 + mult(n1-1,m1)\n",
    "n = int(input('Enter the 1st number:'))\n",
    "m = int(input('Enter the 2nd number:'))\n",
    "mul = mult(n,m)\n",
    "print(mul)"
   ]
  },
  {
   "cell_type": "markdown",
   "metadata": {},
   "source": [
    "**Exercise 5:** In the recursive function `fib` we introduced in lecture to compute the Fibonacci numbers, how many times is `fib(2)` called when `fib(5)` is called? Show how you got your answer."
   ]
  },
  {
   "cell_type": "markdown",
   "metadata": {},
   "source": [
    "$Ans$ `fib(2)` is called 3 times when `fib(5)` is called because when we call the function `fib(5)`,it spawns two function calls which are `fib(4)` and `fib(3)`. similarly when `fib(4)` is called, it also calls `fib(3)` (as well as `fib(2)`).In other words, `fib(3)` is computed twice. So not only does the call `fib(4)` call `fib(2)` twice, it's called again when computing `fib(3)`. Therefor the `fib(2)` is called 3 times when `fib(5)` is called."
   ]
  },
  {
   "cell_type": "markdown",
   "metadata": {},
   "source": [
    "**Exercise 6:** Write a function that takes in a string and returns `True` if the entered string is a palindrome and `False` otherwise. Punctuation marks, blank spaces, and capitalization are ignored. Recall that a palindrome is a string that is the same whether it is read forwards or backwards. Your code should return true if it is given the string 'Was it a cat, I saw?'\n",
    "\n",
    "Hint: Read Guttag section 4.3.2"
   ]
  },
  {
   "cell_type": "code",
   "execution_count": 1,
   "metadata": {},
   "outputs": [
    {
     "name": "stdout",
     "output_type": "stream",
     "text": [
      "wasitacatisaw\n",
      "wasitacatisaw\n"
     ]
    },
    {
     "data": {
      "text/plain": [
       "True"
      ]
     },
     "execution_count": 1,
     "metadata": {},
     "output_type": "execute_result"
    }
   ],
   "source": [
    "s = 'was it a cat, i saw?'\n",
    "punctuations = '''!()-[]{};:'\"\\<>, ./?@#$%^&*_~'''\n",
    "def palindrome(s):\n",
    "    global punctuations\n",
    "    str = \"\"\n",
    "    for i in s:\n",
    "        if i not in punctuations:\n",
    "            str += i\n",
    "    s1 = str[::-1]\n",
    "    print(str)\n",
    "    print(s1)\n",
    "    if str.lower() == s1.lower():\n",
    "        return True\n",
    "    return False\n",
    "palindrome(s)\n",
    "\n"
   ]
  }
 ],
 "metadata": {
  "kernelspec": {
   "display_name": "Python 3",
   "language": "python",
   "name": "python3"
  },
  "language_info": {
   "codemirror_mode": {
    "name": "ipython",
    "version": 3
   },
   "file_extension": ".py",
   "mimetype": "text/x-python",
   "name": "python",
   "nbconvert_exporter": "python",
   "pygments_lexer": "ipython3",
   "version": "3.8.3"
  }
 },
 "nbformat": 4,
 "nbformat_minor": 1
}
