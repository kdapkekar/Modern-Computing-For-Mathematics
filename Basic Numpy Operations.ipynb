{
 "cells": [
  {
   "cell_type": "markdown",
   "metadata": {},
   "source": [
    "#  <span style=\"color:red\">8/8</span>Exercise 09: Basic Numpy Operations"
   ]
  },
  {
   "cell_type": "markdown",
   "metadata": {},
   "source": [
    "**Exercise 1:** Create a 3×3 numpy array of all True’s"
   ]
  },
  {
   "cell_type": "code",
   "execution_count": 25,
   "metadata": {},
   "outputs": [
    {
     "name": "stdout",
     "output_type": "stream",
     "text": [
      "[[ True  True  True]\n",
      " [ True  True  True]\n",
      " [ True  True  True]]\n",
      "3 x 3 numpy array of all True's:\n",
      " [[ True  True  True]\n",
      " [ True  True  True]\n",
      " [ True  True  True]]\n"
     ]
    }
   ],
   "source": [
    "import numpy as np\n",
    "A = np.array([[1,2,3],[4,5,6],[7,8,9]])\n",
    "#print(A)\n",
    "B = A<10\n",
    "print(B)\n",
    "\n",
    "A = np.full((3,3),True,dtype=bool)\n",
    "print(\"3 x 3 numpy array of all True's:\\n\", A)"
   ]
  },
  {
   "cell_type": "markdown",
   "metadata": {},
   "source": [
    "**Exercise 2:** Create a 1-D array of the numbers between 0 and 30. Create a new array from the first that only includes the odd values of your array."
   ]
  },
  {
   "cell_type": "code",
   "execution_count": 30,
   "metadata": {},
   "outputs": [
    {
     "name": "stdout",
     "output_type": "stream",
     "text": [
      "Array which includes values between 0 and 30: [ 1  2  3  4  5  6  7  8  9 10 11 12 13 14 15 16 17 18 19 20 21 22 23 24\n",
      " 25 26 27 28 29]\n",
      "New array which includes only odd values from array A:  [ 1  3  5  7  9 11 13 15 17 19 21 23 25 27 29]\n"
     ]
    }
   ],
   "source": [
    "import numpy as np\n",
    "A1 = np.arange(1,30)\n",
    "print('Array which includes values between 0 and 30:', A1)\n",
    "B = A1[A1%2 != 0]\n",
    "print('New array which includes only odd values from array A: ', B)"
   ]
  },
  {
   "cell_type": "markdown",
   "metadata": {},
   "source": [
    "**Exercise 3:** Using the first array from exercise 2, replace all odd numbers in the array with -1."
   ]
  },
  {
   "cell_type": "code",
   "execution_count": 35,
   "metadata": {},
   "outputs": [
    {
     "name": "stdout",
     "output_type": "stream",
     "text": [
      "Replaced all odd values with -1 in A1:\n",
      " [-1  2 -1  4 -1  6 -1  8 -1 10 -1 12 -1 14 -1 16 -1 18 -1 20 -1 22 -1 24\n",
      " -1 26 -1 28 -1]\n"
     ]
    }
   ],
   "source": [
    "C = np.where(A1%2!=0,-1,A1)\n",
    "print('Replaced all odd values with -1 in A1:\\n', C)"
   ]
  },
  {
   "cell_type": "markdown",
   "metadata": {},
   "source": [
    "**Exercise 4:** The function **np.reshape(A, (n, m))** takes in the array $A$ and converts it to an array of $n$ rows and $m$ columns. Write a function that creates a random 1D array of $n$ integers and converts in into a 2D array with 2 rows."
   ]
  },
  {
   "cell_type": "code",
   "execution_count": 44,
   "metadata": {},
   "outputs": [
    {
     "name": "stdout",
     "output_type": "stream",
     "text": [
      "1D array of 10 integers:\n",
      " [0 1 2 3 4 5 6 7 8 9]\n",
      "Converted 1D array into 2D array with 2 rows:\n",
      " [[0 1 2 3 4]\n",
      " [5 6 7 8 9]]\n"
     ]
    }
   ],
   "source": [
    "import numpy as numpy1\n",
    "import random\n",
    "def random_array(n):\n",
    "    if n%2 != 0:\n",
    "        n = n+1\n",
    "    Arr = numpy1.arange(0,n)\n",
    "    print('1D array of',  n, 'integers:\\n', Arr)\n",
    "    B_Arr = numpy1.reshape(Arr,(2,(n//2)))\n",
    "    return B_Arr\n",
    "print('Converted 1D array into 2D array with 2 rows:\\n', random_array(random.randint(1,20)))"
   ]
  }
 ],
 "metadata": {
  "kernelspec": {
   "display_name": "Python 3",
   "language": "python",
   "name": "python3"
  },
  "language_info": {
   "codemirror_mode": {
    "name": "ipython",
    "version": 3
   },
   "file_extension": ".py",
   "mimetype": "text/x-python",
   "name": "python",
   "nbconvert_exporter": "python",
   "pygments_lexer": "ipython3",
   "version": "3.8.3"
  }
 },
 "nbformat": 4,
 "nbformat_minor": 1
}
