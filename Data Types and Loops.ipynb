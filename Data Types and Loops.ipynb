{
 "cells": [
  {
   "cell_type": "markdown",
   "metadata": {},
   "source": [
    "# Lecture 1 (and some of 2) Exercises"
   ]
  },
  {
   "cell_type": "markdown",
   "metadata": {},
   "source": [
    "<p> \n",
    "    <u>Contents</u>\n",
    "<ul>\n",
    "    \n",
    "<li>Variable assignment</li>\n",
    "\n",
    "<li>Print</li>\n",
    "\n",
    "<li>Data Types</li>\n",
    "\n",
    "<li>Loops (Lecture 2)</li>\n",
    "\n",
    "</ul>\n",
    "<p>"
   ]
  },
  {
   "cell_type": "markdown",
   "metadata": {},
   "source": [
    "**Exercise 1:** Assign number 3 and 17 to variables, x and y. Use the print function and variables x and y to print \"The sum of 3 and 17 is 20.\"  "
   ]
  },
  {
   "cell_type": "code",
   "execution_count": 6,
   "metadata": {},
   "outputs": [
    {
     "name": "stdout",
     "output_type": "stream",
     "text": [
      "The sum of 3 and 17 is 20\n"
     ]
    }
   ],
   "source": [
    "x=3\n",
    "y=17\n",
    "print('The sum of 3 and 17 is', x+y)"
   ]
  },
  {
   "cell_type": "code",
   "execution_count": 0,
   "metadata": {},
   "outputs": [],
   "source": []
  },
  {
   "cell_type": "markdown",
   "metadata": {},
   "source": [
    "**Exercise 2:** Write a program that takes in two numbers $b,h$ as the base and height of a right triangle, and computes the area of that triangle. "
   ]
  },
  {
   "cell_type": "code",
   "execution_count": 5,
   "metadata": {
    "cocalc": {
     "outputs": {
      "0": {
       "name": "input",
       "opts": {
        "password": false,
        "prompt": "Enter base of triangle:"
       },
       "output_type": "stream",
       "value": "4"
      },
      "1": {
       "name": "input",
       "opts": {
        "password": false,
        "prompt": "Enter height of triangle:"
       },
       "output_type": "stream",
       "value": "4"
      }
     }
    }
   },
   "outputs": [
    {
     "name": "stdout",
     "output_type": "stream",
     "text": [
      "Enter base of triangle: 4Enter height of triangle: 4Area of triangle: 8.0\n"
     ]
    }
   ],
   "source": [
    "b=int(input('Enter base of triangle:'))\n",
    "h=int(input('Enter height of triangle:'))\n",
    "area=0.5*b*h\n",
    "print('Area of triangle:', area)"
   ]
  },
  {
   "cell_type": "markdown",
   "metadata": {},
   "source": [
    "**Exercise 3:** Write a program to convert temperatures from celsius to fahrenheit where \n",
    "    $$c = \\frac{5}{9}(f-32)$$"
   ]
  },
  {
   "cell_type": "code",
   "execution_count": 30,
   "metadata": {
    "cocalc": {
     "outputs": {
      "0": {
       "name": "input",
       "opts": {
        "password": false,
        "prompt": "Enter the value in celsius:"
       },
       "output_type": "stream",
       "value": "-20"
      }
     }
    }
   },
   "outputs": [
    {
     "name": "stdout",
     "output_type": "stream",
     "text": [
      "Enter the value in celsius: -20Temperature from celsius to fahreheit: -4.0\n"
     ]
    }
   ],
   "source": [
    "c=float(input('Enter the value in celsius:'))\n",
    "f=9/5*c+32\n",
    "print('Temperature from celsius to fahreheit:', f)"
   ]
  },
  {
   "cell_type": "markdown",
   "metadata": {},
   "source": [
    "**Exercise 4:** Write a method that takes an integer as input and outputs whether or not the number is odd or even. Make sure you have an output that prints \"The number 'x' is even/odd\"."
   ]
  },
  {
   "cell_type": "code",
   "execution_count": 28,
   "metadata": {
    "cocalc": {
     "outputs": {
      "0": {
       "name": "input",
       "opts": {
        "password": false,
        "prompt": "enter an integer number:"
       },
       "output_type": "stream",
       "value": "8"
      }
     }
    },
    "scrolled": true
   },
   "outputs": [
    {
     "name": "stdout",
     "output_type": "stream",
     "text": [
      "enter an integer number: 8Number is EVEN\n"
     ]
    }
   ],
   "source": [
    "def evenorodd(b):\n",
    "    if b%2==0:\n",
    "          print('Number is EVEN.')\n",
    "    else:\n",
    "          print('Number is ODD.')\n",
    "\n",
    "x=int(input('enter an integer number:'))\n",
    "evenorodd(x)\n"
   ]
  },
  {
   "cell_type": "markdown",
   "metadata": {},
   "source": [
    "**Exercise 5:** \n",
    "Write a Python program to construct the following pattern, using a nested for loop.\n",
    "\n",
    "\\* \n",
    "\n",
    "\\* \\* \n",
    "\n",
    "\\* \\* \\* \n",
    "\n",
    "\\* \\* \\* \\* \n",
    "\n",
    "\\* \\* \\* \\* \\* \n",
    "\n",
    "\\* \\* \\* \\* \n",
    "\n",
    "\\* \\* \\* \n",
    "\n",
    "\\* \\* \n",
    "\n",
    "\\*\n",
    "<p>"
   ]
  },
  {
   "cell_type": "code",
   "execution_count": 20,
   "metadata": {},
   "outputs": [
    {
     "name": "stdout",
     "output_type": "stream",
     "text": [
      "* \n",
      "\n",
      "* * \n",
      "\n",
      "* * * \n",
      "\n",
      "* * * * \n",
      "\n",
      "* * * * * \n",
      "\n",
      "* * * * \n",
      "\n",
      "* * * \n",
      "\n",
      "* * \n",
      "\n",
      "* \n",
      "\n",
      "\n",
      "\n"
     ]
    }
   ],
   "source": [
    "for i in range(0,5):\n",
    "    for j in range(0,i+1):\n",
    "        print ('*',end=' ')\n",
    "    print ('\\n')\n",
    "\n",
    "for i in range(5,0,-1):\n",
    "    for j in range(0,i-1):\n",
    "        print('*', end=' ')\n",
    "    print ('\\n')\n"
   ]
  },
  {
   "cell_type": "markdown",
   "metadata": {},
   "source": [
    "**Exercise 6:** Write a method that takes in two numbers and finds the quotient and remainder of the first input value, divided by the second input value. Print \"The quotient is _. The remainder is _\"   \n"
   ]
  },
  {
   "cell_type": "code",
   "execution_count": 10,
   "metadata": {
    "cocalc": {
     "outputs": {
      "0": {
       "name": "input",
       "opts": {
        "password": false,
        "prompt": "Enter the first value:"
       },
       "output_type": "stream",
       "value": "101"
      },
      "1": {
       "name": "input",
       "opts": {
        "password": false,
        "prompt": "Enter the second value:"
       },
       "output_type": "stream",
       "value": "2"
      }
     }
    }
   },
   "outputs": [
    {
     "name": "stdout",
     "output_type": "stream",
     "text": [
      "Enter the first value: 101Enter the second value: 2The quotient is: 50 \n",
      " The remainder is: 1\n"
     ]
    }
   ],
   "source": [
    "a=int(input('Enter the first value:'))\n",
    "b=int(input('Enter the second value:'))\n",
    "def division(x,y):\n",
    "    c=x//y\n",
    "    d=x%y\n",
    "    print('The quotient is:', c, '\\n', 'The remainder is:', d)\n",
    "\n",
    "division(a,b)"
   ]
  },
  {
   "cell_type": "markdown",
   "metadata": {},
   "source": [
    "**Exercise 7:** Write a function that takes in an integer $n$ and computes $n!$.\n"
   ]
  },
  {
   "cell_type": "code",
   "execution_count": 33,
   "metadata": {
    "cocalc": {
     "outputs": {
      "0": {
       "name": "input",
       "opts": {
        "password": false,
        "prompt": "Enter an integer:"
       },
       "output_type": "stream",
       "value": "6"
      }
     }
    }
   },
   "outputs": [
    {
     "name": "stdout",
     "output_type": "stream",
     "text": [
      "Enter an integer: 6Factorial of 6 is: 720\n"
     ]
    }
   ],
   "source": [
    "n=int(input('Enter an integer:'))\n",
    "res=1\n",
    "def factorial(a,res):\n",
    "    for i in range(a,0,-1):\n",
    "        res=res*i\n",
    "    return res\n",
    "if n<0:\n",
    "    print('Factorial cannot be find for negative numbers')\n",
    "else:\n",
    "    print('Factorial of', n, 'is:', factorial(n,res))\n",
    "\n",
    "\n"
   ]
  }
 ],
 "metadata": {
  "kernelspec": {
   "display_name": "Python 3",
   "language": "python",
   "name": "python3"
  },
  "language_info": {
   "codemirror_mode": {
    "name": "ipython",
    "version": 3
   },
   "file_extension": ".py",
   "mimetype": "text/x-python",
   "name": "python",
   "nbconvert_exporter": "python",
   "pygments_lexer": "ipython3",
   "version": "3.8.3"
  }
 },
 "nbformat": 4,
 "nbformat_minor": 1
}
