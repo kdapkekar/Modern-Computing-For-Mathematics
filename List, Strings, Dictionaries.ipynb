{
 "cells": [
  {
   "cell_type": "markdown",
   "metadata": {},
   "source": [
    "# Exercise 05"
   ]
  },
  {
   "cell_type": "markdown",
   "metadata": {},
   "source": [
    "### Contents:\n",
    "    \n",
    "* Strings\n",
    "\n",
    "* Lists\n",
    "\n",
    "* Dictionaries\n",
    "\n"
   ]
  },
  {
   "cell_type": "markdown",
   "metadata": {},
   "source": [
    "**Exercise 1:** Create a function that returns *True* if a string is empty and *False* otherwise. Note: the string \" \" is not considered empty. "
   ]
  },
  {
   "cell_type": "code",
   "execution_count": 2,
   "metadata": {
    "cocalc": {
     "outputs": {
      "0": {
       "name": "input",
       "opts": {
        "password": false,
        "prompt": "Enter the String:"
       },
       "output_type": "stream",
       "value": ""
      }
     }
    }
   },
   "outputs": [
    {
     "name": "stdout",
     "output_type": "stream",
     "text": [
      "Enter the String: "
     ]
    },
    {
     "data": {
      "text/plain": [
       "True"
      ]
     },
     "execution_count": 2,
     "metadata": {},
     "output_type": "execute_result"
    }
   ],
   "source": [
    "def emptyString(s):\n",
    "    if len(s) == 0:\n",
    "        return True\n",
    "    return False\n",
    "s = input('Enter the String:')\n",
    "emptyString(s)"
   ]
  },
  {
   "cell_type": "markdown",
   "metadata": {},
   "source": [
    "**Exercise 2:** Use the code for the function <span style=\"color:blue\">upperA( x ):</span> in the lecture to produce a new function that takes in a string *and* an integer $n$ and prints the string with only the first $n$ letters capitalized. "
   ]
  },
  {
   "cell_type": "code",
   "execution_count": 1,
   "metadata": {},
   "outputs": [],
   "source": [
    "def upperA(x):\n",
    "    for i in range(0, len(x) + 1, 1):\n",
    "        y = ban[0:i]\n",
    "        if \"a\" in y:\n",
    "            print(y.replace(\"a\", \"A\") + ban[i:])\n"
   ]
  },
  {
   "cell_type": "code",
   "execution_count": 11,
   "metadata": {
    "cocalc": {
     "outputs": {
      "0": {
       "name": "input",
       "opts": {
        "password": false,
        "prompt": "Enter the String:"
       },
       "output_type": "stream",
       "value": "Capitalization"
      },
      "1": {
       "name": "input",
       "opts": {
        "password": false,
        "prompt": "Enter the number:"
       },
       "output_type": "stream",
       "value": "4"
      }
     }
    }
   },
   "outputs": [
    {
     "name": "stdout",
     "output_type": "stream",
     "text": [
      "Enter the String: CapitalizationEnter the number: 4CAPItalization\n"
     ]
    }
   ],
   "source": [
    "def upperA(str,n):\n",
    "    final_str = ''\n",
    "    y = str[0:n]\n",
    "    final_str = y.replace(y[:], y[:].upper()) + str[n:]\n",
    "    return final_str\n",
    "s = input('Enter the String:')\n",
    "n = int(input('Enter the number:'))\n",
    "res = upperA(s,n)\n",
    "print(res)"
   ]
  },
  {
   "cell_type": "markdown",
   "metadata": {},
   "source": [
    "**Exercise 3:** Write a function <span style =\"color:blue\"> backFib: </span> that prints the first $n$ fibonacci numbers backwards."
   ]
  },
  {
   "cell_type": "code",
   "execution_count": 4,
   "metadata": {
    "cocalc": {
     "outputs": {
      "0": {
       "name": "input",
       "opts": {
        "password": false,
        "prompt": "Enter the number for fibonacci series:"
       },
       "output_type": "stream",
       "value": "8"
      },
      "1": {
       "name": "input",
       "opts": {
        "password": false,
        "prompt": "Enter the first number:"
       },
       "output_type": "stream",
       "value": "0"
      },
      "2": {
       "name": "input",
       "opts": {
        "password": false,
        "prompt": "Enter the second number:"
       },
       "output_type": "stream",
       "value": "1"
      }
     }
    }
   },
   "outputs": [
    {
     "name": "stdout",
     "output_type": "stream",
     "text": [
      "Enter the number for fibonacci series: 8Enter the first number: 0"
     ]
    }
   ],
   "source": [
    "n = int(input('Enter the number for fibonacci series:'))\n",
    "a = 0\n",
    "b = 1\n",
    "count = 0\n",
    "print(a,b,end=' ')\n",
    "lst = []\n",
    "lst.append(a)\n",
    "lst.append(b)\n",
    "def backFib(n):\n",
    "    global lst,a,b,count\n",
    "    while count<n:\n",
    "        count += 1\n",
    "        c = a + b\n",
    "        a = b\n",
    "        b = c\n",
    "        print(c,end=' ')\n",
    "        lst.append(c)\n",
    "    lst.reverse()\n",
    "backFib(n)\n",
    "print('\\nnth Fibonacci numbers backward: ', lst)"
   ]
  },
  {
   "cell_type": "markdown",
   "metadata": {},
   "source": [
    "**Exercise 4:** Consider the tuple t = (2,3,4,5). Write a function <span style = \"color:blue\">tuList( t )</span> that takes in a tuple, makes a list out of it, and also creates a new list of all possible sums of elements of the list. "
   ]
  },
  {
   "cell_type": "code",
   "execution_count": 9,
   "metadata": {},
   "outputs": [
    {
     "name": "stdout",
     "output_type": "stream",
     "text": [
      "[2, 3, 4, 5]\n",
      "A new List of all possible sums of elements of the old list: [5, 9, 14, 10, 6, 11, 7, 7, 12, 8, 9]\n"
     ]
    }
   ],
   "source": [
    "t = (2,3,4,5)\n",
    "def tuList(t1):\n",
    "    lst = []\n",
    "    lst1 = []\n",
    "    for i in range(0,4):\n",
    "        lst.append(t[i])\n",
    "    print(lst)\n",
    "    for  i in range(0,len(lst)):\n",
    "        for j in range(i+1,len(lst)):\n",
    "            lst1.append(lst[i]+lst[j])\n",
    "            for k in range(j+1,len(lst)):\n",
    "                lst1.append(lst[i]+lst[j]+lst[k])\n",
    "                for l in range(k+1,len(lst)):\n",
    "                    lst1.append(lst[i]+lst[j]+lst[k]+lst[l])\n",
    "    print('A new List of all possible sums of elements of the old list:', lst1)\n",
    "tuList(t)"
   ]
  },
  {
   "cell_type": "markdown",
   "metadata": {},
   "source": [
    "**Exercise 5:** Create a program that takes in a list of closed intervals and a single point and outputs how many of the intervals the point is in."
   ]
  },
  {
   "cell_type": "code",
   "execution_count": 45,
   "metadata": {
    "cocalc": {
     "outputs": {
      "0": {
       "name": "input",
       "opts": {
        "password": false,
        "prompt": "How many closed interval you want to add in the list:"
       },
       "output_type": "stream",
       "value": "2"
      },
      "1": {
       "name": "input",
       "opts": {
        "password": false,
        "prompt": "how many elements in the closed interval"
       },
       "output_type": "stream",
       "value": "1"
      },
      "2": {
       "name": "input",
       "opts": {
        "password": false,
        "prompt": "Enter the numbers to append in the closed interval:"
       },
       "output_type": "stream",
       "value": "2"
      },
      "3": {
       "name": "input",
       "opts": {
        "password": false,
        "prompt": "Enter the numbers to append in the closed interval:"
       },
       "output_type": "stream",
       "value": "3"
      },
      "4": {
       "name": "input",
       "opts": {
        "password": false,
        "prompt": "how many elements in the closed interval"
       },
       "output_type": "stream",
       "value": "3"
      },
      "5": {
       "name": "input",
       "opts": {
        "password": false,
        "prompt": "Enter the numbers to append in the closed interval:"
       },
       "output_type": "stream",
       "value": "2"
      },
      "6": {
       "name": "input",
       "opts": {
        "password": false,
        "prompt": "Enter the numbers to append in the closed interval:"
       },
       "output_type": "stream",
       "value": "3"
      },
      "7": {
       "name": "input",
       "opts": {
        "password": false,
        "prompt": "Enter the numbers to append in the closed interval:"
       },
       "output_type": "stream",
       "value": "4"
      },
      "8": {
       "name": "input",
       "opts": {
        "password": false,
        "prompt": "Enter the point:"
       },
       "output_type": "stream",
       "value": "3"
      },
      "9": {
       "name": "input",
       "opts": {
        "password": false,
        "prompt": "Enter the point:"
       },
       "output_type": "stream",
       "value": "4"
      }
     }
    }
   },
   "outputs": [
    {
     "name": "stdout",
     "output_type": "stream",
     "text": [
      "How many closed interval you want to add in the list: 2how many elements in the closed interval 1Enter the numbers to append in the closed interval: 2[[2]]\n",
      "how many elements in the closed interval 3Enter the numbers to append in the closed interval: 2Enter the numbers to append in the closed interval: 3Enter the numbers to append in the closed interval: 4[[2, 3, 4], [2, 3, 4]]\n",
      "Enter the point: 4[[2, 3, 4], [2, 3, 4]]\n",
      "[2, 3, 4]\n",
      "[2, 3, 4]\n",
      "2\n"
     ]
    }
   ],
   "source": [
    "n = int(input('How many closed interval you want to add in the list:'))\n",
    "closed_interval = []\n",
    "a = []\n",
    "a1 = []\n",
    "for i in range(0,n):\n",
    "    n1 = int(input('how many elements in the closed interval'))\n",
    "    del a1[:]\n",
    "    del closed_interval[:]\n",
    "    for j in range(0,n1):\n",
    "        a1.append(int(input('Enter the numbers to append in the closed interval:')))\n",
    "    closed_interval = a1\n",
    "    a.insert(i,closed_interval)\n",
    "    print(a)\n",
    "point = int(input('Enter the point:'))\n",
    "count = 0\n",
    "print(a)\n",
    "for i in a:\n",
    "    print(i)\n",
    "    for j in range(0,len(i)):\n",
    "        if i[j] == point:\n",
    "            count += 1\n",
    "print(count)"
   ]
  },
  {
   "cell_type": "markdown",
   "metadata": {},
   "source": [
    "**Exercise 6:** Create a loop that takes an integer input and makes a dictionary that is indexed by the integers 1,2,3,..,n such that each index $i$ represents the element $n - i$."
   ]
  },
  {
   "cell_type": "code",
   "execution_count": 22,
   "metadata": {
    "cocalc": {
     "outputs": {
      "0": {
       "name": "input",
       "opts": {
        "password": false,
        "prompt": "How many elements you want to add:"
       },
       "output_type": "stream",
       "value": "3"
      }
     }
    }
   },
   "outputs": [
    {
     "name": "stdout",
     "output_type": "stream",
     "text": [
      "How many elements you want to add: 3{1: 2, 2: 1, 3: 0}\n"
     ]
    }
   ],
   "source": [
    "n = int(input('How many elements you want to add:'))\n",
    "d = {}\n",
    "for i in range(0,n):\n",
    "    d.update({i+1:n-(i+1)})\n",
    "print(d)"
   ]
  },
  {
   "cell_type": "markdown",
   "metadata": {},
   "source": [
    "**Exercise 7:** Write a program that takes in a dictionary and creates a list of the keys and a seperate list of the values."
   ]
  },
  {
   "cell_type": "code",
   "execution_count": 26,
   "metadata": {},
   "outputs": [
    {
     "name": "stdout",
     "output_type": "stream",
     "text": [
      "[1, 2, 3, 4, 5]\n",
      "['XYZ', 'ABC', 'PQR', 'LMN', 'EFG']\n"
     ]
    }
   ],
   "source": [
    "d = {\n",
    "    1 : 'XYZ',\n",
    "    2 : 'ABC',\n",
    "    3 : 'PQR',\n",
    "    4 : 'LMN',\n",
    "    5 : 'EFG'\n",
    "}\n",
    "key = []\n",
    "value = []\n",
    "for i in d.keys():\n",
    "    key.append(i)\n",
    "for j in d.values():\n",
    "    value.append(j)\n",
    "print(key)\n",
    "print(value)"
   ]
  },
  {
   "cell_type": "markdown",
   "metadata": {},
   "source": [
    "**Exercise 8:** Write a program that takes in two lists and creates a dictionary with the first list as key values and the second list as values. If the lengths of the lists disagree, have the program make a dictionary of the length of the smaller of the two lists."
   ]
  },
  {
   "cell_type": "code",
   "execution_count": 41,
   "metadata": {
    "cocalc": {
     "outputs": {
      "0": {
       "name": "input",
       "opts": {
        "password": false,
        "prompt": "How many elements you want to add in key list"
       },
       "output_type": "stream",
       "value": "2"
      },
      "1": {
       "name": "input",
       "opts": {
        "password": false,
        "prompt": "Enter key for the dictionary"
       },
       "output_type": "stream",
       "value": "1"
      },
      "2": {
       "name": "input",
       "opts": {
        "password": false,
        "prompt": "Enter key for the dictionary"
       },
       "output_type": "stream",
       "value": "2"
      },
      "3": {
       "name": "input",
       "opts": {
        "password": false,
        "prompt": "How many elements you want to add in value list"
       },
       "output_type": "stream",
       "value": "3"
      },
      "4": {
       "name": "input",
       "opts": {
        "password": false,
        "prompt": "Enter values for the dictionary"
       },
       "output_type": "stream",
       "value": "abc"
      },
      "5": {
       "name": "input",
       "opts": {
        "password": false,
        "prompt": "Enter values for the dictionary"
       },
       "output_type": "stream",
       "value": "pqr"
      },
      "6": {
       "name": "input",
       "opts": {
        "password": false,
        "prompt": "Enter values for the dictionary"
       },
       "output_type": "stream",
       "value": "xyz"
      }
     }
    }
   },
   "outputs": [
    {
     "name": "stdout",
     "output_type": "stream",
     "text": [
      "How many elements you want to add in key list 2Enter key for the dictionary 1Enter key for the dictionary 2How many elements you want to add in value list 3Enter values for the dictionary abcEnter values for the dictionary pqrEnter values for the dictionary xyz['1', '2'] \n",
      " ['abc', 'pqr', 'xyz']\n",
      "{'1': 'xyz', '2': 'pqr'}\n"
     ]
    }
   ],
   "source": [
    "dictionary = {}\n",
    "key = []\n",
    "n = int(input('How many elements you want to add in key list'))\n",
    "for i in range(0,n):\n",
    "    key1 = input('Enter key for the dictionary')\n",
    "    key.append(key1)\n",
    "value = []\n",
    "m = int(input('How many elements you want to add in value list'))\n",
    "for i in range(0,m):\n",
    "    value1 = input('Enter values for the dictionary')\n",
    "    value.append(value1)\n",
    "print(key, '\\n', value)\n",
    "if n<m:\n",
    "    for i in range(0,n):\n",
    "        for k in key:\n",
    "            for v in value:\n",
    "                dictionary[k] = v\n",
    "                value.remove(v)\n",
    "else:\n",
    "    for j in range(0,m):\n",
    "        for k in key:\n",
    "            for v in value:\n",
    "                dictionary[k] = v\n",
    "                value.remove(v)\n",
    "\n",
    "\n",
    "print(dictionary)"
   ]
  }
 ],
 "metadata": {
  "kernelspec": {
   "display_name": "Python 3",
   "language": "python",
   "name": "python3"
  },
  "language_info": {
   "codemirror_mode": {
    "name": "ipython",
    "version": 3
   },
   "file_extension": ".py",
   "mimetype": "text/x-python",
   "name": "python",
   "nbconvert_exporter": "python",
   "pygments_lexer": "ipython3",
   "version": "3.8.3"
  }
 },
 "nbformat": 4,
 "nbformat_minor": 1
}
