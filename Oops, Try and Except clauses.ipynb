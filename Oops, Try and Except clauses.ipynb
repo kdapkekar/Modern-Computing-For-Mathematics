{
 "cells": [
  {
   "cell_type": "markdown",
   "metadata": {},
   "source": [
    "# <span style=\"color:red\">10/10</span> Exercises 07\n",
    "\n",
    "These two longer exercsies test:\n",
    "- Try and Except clauses\n",
    "- Some Object Oriented Programming"
   ]
  },
  {
   "cell_type": "markdown",
   "metadata": {},
   "source": [
    "<span style=\"color:red\">5/5</span>**Question 1:** <span style=\"color:green\"> N.B. This question is worth 5 points! </span> Write a function `find_even(L)` that takes in a list of integers L and returns all the even numbers in the list. If there is no even number have it raise a ValueError exception. You must test your code by generating importing `random` and generating random lists of integers."
   ]
  },
  {
   "cell_type": "code",
   "execution_count": 3,
   "metadata": {},
   "outputs": [
    {
     "name": "stdout",
     "output_type": "stream",
     "text": [
      "[4, 8, 34, 76, 92, 100, 130, 200]\n"
     ]
    }
   ],
   "source": [
    "L = [1,4,8,23,34,45,55,69,76,87,92,100,130,145,200]\n",
    "not_even = [1,3,7,9,31,11,67,99]\n",
    "def find_even(L1):\n",
    "    L2 = []\n",
    "    for i in L1:\n",
    "        if i%2 == 0:\n",
    "            L2.append(i)\n",
    "    if not L2:\n",
    "        raise ValueError('The function was called with bad arguments')\n",
    "    return L2\n",
    "final_res = find_even(L)\n",
    "print(final_res)\n",
    "#find_even(not_even)"
   ]
  },
  {
   "cell_type": "code",
   "execution_count": 4,
   "metadata": {},
   "outputs": [
    {
     "name": "stdout",
     "output_type": "stream",
     "text": [
      "[8, 13, 15, 0, 6, 4, 15, 8, 15, 0, 6, 8, 8, 9, 2, 13, 1, 1, 6, 6]\n",
      "[8, 0, 6, 4, 8, 0, 6, 8, 8, 2, 6, 6]\n"
     ]
    },
    {
     "ename": "ValueError",
     "evalue": "The function was called with bad arguments",
     "output_type": "error",
     "traceback": [
      "\u001b[0;31m---------------------------------------------------------------------------\u001b[0m",
      "\u001b[0;31mValueError\u001b[0m                                Traceback (most recent call last)",
      "\u001b[0;32m<ipython-input-4-9077729432cb>\u001b[0m in \u001b[0;36m<module>\u001b[0;34m\u001b[0m\n\u001b[1;32m      4\u001b[0m \u001b[0mresult\u001b[0m \u001b[0;34m=\u001b[0m \u001b[0mfind_even\u001b[0m\u001b[0;34m(\u001b[0m\u001b[0mL3\u001b[0m\u001b[0;34m)\u001b[0m\u001b[0;34m\u001b[0m\u001b[0;34m\u001b[0m\u001b[0m\n\u001b[1;32m      5\u001b[0m \u001b[0mprint\u001b[0m\u001b[0;34m(\u001b[0m\u001b[0mresult\u001b[0m\u001b[0;34m)\u001b[0m\u001b[0;34m\u001b[0m\u001b[0;34m\u001b[0m\u001b[0m\n\u001b[0;32m----> 6\u001b[0;31m \u001b[0mfind_even\u001b[0m\u001b[0;34m(\u001b[0m\u001b[0;34m[\u001b[0m\u001b[0;34m]\u001b[0m\u001b[0;34m)\u001b[0m\u001b[0;34m\u001b[0m\u001b[0;34m\u001b[0m\u001b[0m\n\u001b[0m",
      "\u001b[0;32m<ipython-input-3-cc19a3d017a6>\u001b[0m in \u001b[0;36mfind_even\u001b[0;34m(L1)\u001b[0m\n\u001b[1;32m      7\u001b[0m             \u001b[0mL2\u001b[0m\u001b[0;34m.\u001b[0m\u001b[0mappend\u001b[0m\u001b[0;34m(\u001b[0m\u001b[0mi\u001b[0m\u001b[0;34m)\u001b[0m\u001b[0;34m\u001b[0m\u001b[0;34m\u001b[0m\u001b[0m\n\u001b[1;32m      8\u001b[0m     \u001b[0;32mif\u001b[0m \u001b[0;32mnot\u001b[0m \u001b[0mL2\u001b[0m\u001b[0;34m:\u001b[0m\u001b[0;34m\u001b[0m\u001b[0;34m\u001b[0m\u001b[0m\n\u001b[0;32m----> 9\u001b[0;31m         \u001b[0;32mraise\u001b[0m \u001b[0mValueError\u001b[0m\u001b[0;34m(\u001b[0m\u001b[0;34m'The function was called with bad arguments'\u001b[0m\u001b[0;34m)\u001b[0m\u001b[0;34m\u001b[0m\u001b[0;34m\u001b[0m\u001b[0m\n\u001b[0m\u001b[1;32m     10\u001b[0m     \u001b[0;32mreturn\u001b[0m \u001b[0mL2\u001b[0m\u001b[0;34m\u001b[0m\u001b[0;34m\u001b[0m\u001b[0m\n\u001b[1;32m     11\u001b[0m \u001b[0mfinal_res\u001b[0m \u001b[0;34m=\u001b[0m \u001b[0mfind_even\u001b[0m\u001b[0;34m(\u001b[0m\u001b[0mL\u001b[0m\u001b[0;34m)\u001b[0m\u001b[0;34m\u001b[0m\u001b[0;34m\u001b[0m\u001b[0m\n",
      "\u001b[0;31mValueError\u001b[0m: The function was called with bad arguments"
     ]
    }
   ],
   "source": [
    "import random\n",
    "L3 = [random.randint(0,15) for i in range(20)]\n",
    "print(L3)\n",
    "result = find_even(L3)\n",
    "print(result)\n",
    "find_even([])"
   ]
  },
  {
   "cell_type": "markdown",
   "metadata": {},
   "source": [
    "**Question 2 Background:** Consider the code below for a new class of objects called `account` that has the attributes described in the docstrings below:"
   ]
  },
  {
   "cell_type": "code",
   "execution_count": 7,
   "metadata": {},
   "outputs": [],
   "source": [
    "from datetime import datetime\n",
    "class Account:\n",
    "        \"\"\"A bank account that has a non-negative balance.\"\"\"\n",
    "        def __init__(self, account_holder):\n",
    "            \"\"\"Every Account is described using the name of the account holder, which is a string.\"\"\"\n",
    "            self.balance = 0\n",
    "            self.holder = account_holder\n",
    "        def deposit(self, amount):\n",
    "            \"\"\"Increase the account balance by amount and return the new balance.\"\"\"\n",
    "            self.balance = self.balance + amount\n",
    "            return self.balance, datetime.now()\n",
    "        def withdraw(self, amount):\n",
    "            \"\"\"Decrease the account balance by amount and return the new balance.\"\"\"\n",
    "            if amount > self.balance:\n",
    "                return 'Insufficient funds'\n",
    "            self.balance = self.balance - amount\n",
    "            return self.balance\n",
    "        def __str__(self):\n",
    "            return self.holder"
   ]
  },
  {
   "cell_type": "markdown",
   "metadata": {},
   "source": [
    "<span style=\"color:red\">5/5</span>**Question 2:**  <span style=\"color:green\"> N.B. This question is worth 5 points! </span> Using the class account above, write a new subclass `hiAccount` (note \"hi\" stands for \"high interest\") that allows you to earn interest at the rate of .01% per second. \n",
    "\n",
    "Write a new method called checkBalance for hiAccount that computes hiAccount's value, accounting for the growth of your hiAccount between when the time when the deposit was made and when you invoke checkBalance.\n",
    "\n",
    "You might want to familiarize yourself with the `time` module by reading <a href=\"https://docs.python.org/3/library/time.html#module-time\">the time documentation</a>.\n"
   ]
  },
  {
   "cell_type": "code",
   "execution_count": 8,
   "metadata": {},
   "outputs": [
    {
     "name": "stdout",
     "output_type": "stream",
     "text": [
      "Amount deposited in Aleena 's account is 400 \n",
      "Time when amount deposited is 2019-10-09 17:47:50.499461\n"
     ]
    }
   ],
   "source": [
    "from datetime import datetime\n",
    "class hiAccount(Account):\n",
    "    def __init__(self, account_holder):\n",
    "        Account.__init__(self, account_holder)\n",
    "    def checkBalance(self,bal,deposit_time):\n",
    "        check_time = datetime.now()\n",
    "        print('Time when checking balance:',check_time)\n",
    "        diff = (check_time - deposit_time)\n",
    "        difference = diff.days*24*3600 + diff.seconds\n",
    "        print('Differnce of time when amount deposited and checking balance: ', difference)\n",
    "        self.balance = self.balance + (0.01*difference*self.balance)\n",
    "        return self.balance\n",
    "\n",
    "A = Account('Adrina')\n",
    "hiA = hiAccount('Aleena')\n",
    "deposit_bal,deposit_time = hiA.deposit(400)\n",
    "print('Amount deposited in',hiA,\"'s account is\", deposit_bal, '\\nTime when amount deposited is', deposit_time)"
   ]
  },
  {
   "cell_type": "code",
   "execution_count": 11,
   "metadata": {},
   "outputs": [
    {
     "name": "stdout",
     "output_type": "stream",
     "text": [
      "Time when checking balance: 2019-10-09 17:47:57.603057\n",
      "Differnce of time when amount deposited and checking balance:  7\n",
      "Balance after growth in your deposited amount according to the rate of interest 0.01% persecond 453.894\n"
     ]
    }
   ],
   "source": [
    "growth_bal = hiA.checkBalance(deposit_bal,deposit_time)\n",
    "print('Balance after growth in your deposited amount according to the rate of interest 0.01% persecond', growth_bal)"
   ]
  },
  {
   "cell_type": "code",
   "execution_count": 0,
   "metadata": {},
   "outputs": [],
   "source": []
  }
 ],
 "metadata": {
  "kernelspec": {
   "display_name": "Python 3",
   "language": "python",
   "name": "python3"
  },
  "language_info": {
   "codemirror_mode": {
    "name": "ipython",
    "version": 3
   },
   "file_extension": ".py",
   "mimetype": "text/x-python",
   "name": "python",
   "nbconvert_exporter": "python",
   "pygments_lexer": "ipython3",
   "version": "3.8.3"
  }
 },
 "nbformat": 4,
 "nbformat_minor": 1
}
