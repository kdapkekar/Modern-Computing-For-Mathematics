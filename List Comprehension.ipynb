{
 "cells": [
  {
   "cell_type": "markdown",
   "metadata": {},
   "source": [
    "# <span style=\"color:red\">16/16</span>Exercises 06"
   ]
  },
  {
   "cell_type": "markdown",
   "metadata": {},
   "source": [
    "<span style=\"color:red\">2/2</span>**Exercise 1:** Using list comprehension, find all of the numbers from 1-105 that are divisible by 7"
   ]
  },
  {
   "cell_type": "code",
   "execution_count": 11,
   "metadata": {},
   "outputs": [
    {
     "name": "stdout",
     "output_type": "stream",
     "text": [
      "Total numbers are: 15\n",
      "Numbers between 1 and 105 which are divisible by 7 are: [7, 14, 21, 28, 35, 42, 49, 56, 63, 70, 77, 84, 91, 98, 105]\n"
     ]
    }
   ],
   "source": [
    "res = [i for i in range(1,106) if i%7 == 0]\n",
    "print('Total numbers are:',len(res))\n",
    "print('Numbers between 1 and 105 which are divisible by 7 are:',res)"
   ]
  },
  {
   "cell_type": "markdown",
   "metadata": {},
   "source": [
    "<span style=\"color:red\">2/2</span>**Exercise 2:** Use list comprehension to count the number of spaces in a string"
   ]
  },
  {
   "cell_type": "code",
   "execution_count": 12,
   "metadata": {},
   "outputs": [
    {
     "name": "stdout",
     "output_type": "stream",
     "text": [
      "Total number spaces in a string are: 13\n"
     ]
    }
   ],
   "source": [
    "str = 'A good programmer is someone who always looks both ways before crossing a one-way-street.'\n",
    "res = [i for i in str if i == ' ']\n",
    "print('Total number spaces in a string are:',len(res))"
   ]
  },
  {
   "cell_type": "markdown",
   "metadata": {},
   "source": [
    "<span style=\"color:red\">2/2</span>**Exercise 3:** Use list comprehension to remove all of the vowels in a string"
   ]
  },
  {
   "cell_type": "code",
   "execution_count": 14,
   "metadata": {},
   "outputs": [
    {
     "name": "stdout",
     "output_type": "stream",
     "text": [
      "A good programmer is someone who always looks both ways before crossing a one-way-street.\n",
      " gd prgrmmr s smn wh lwys lks bth wys bfr crssng  n-wy-strt.\n"
     ]
    }
   ],
   "source": [
    "vowels = 'aeiouAEIOU'\n",
    "str = 'A good programmer is someone who always looks both ways before crossing a one-way-street.'\n",
    "print(str)\n",
    "s = [i for i in str if i not in vowels]\n",
    "final_res = ''.join(s)\n",
    "print(final_res)"
   ]
  },
  {
   "cell_type": "markdown",
   "metadata": {},
   "source": [
    "<span style=\"color:red\">2/2</span>**Exercise 4:** Run the .split() function we saw last lecture on a string to see what it does when you don't pass any parameters. Then, use this and list comprehension to make a list that only keeps the words that are less than or equal to four letters in the string \"Poincaré's homology sphere is a closed 3- manifold with the same homology as the 3-sphere but with a fundamental group which is non-trivial.\""
   ]
  },
  {
   "cell_type": "code",
   "execution_count": 28,
   "metadata": {
    "scrolled": true
   },
   "outputs": [
    {
     "name": "stdout",
     "output_type": "stream",
     "text": [
      "[\"Poincare's\", 'homology', 'sphere', 'is', 'a', 'closed', '3-manifold', 'with', 'the', 'same', 'homology', 'as', 'the', '3-sphere', 'but', 'with', 'a', 'fundamental', 'group', 'which', 'is', 'non-trivial']\n",
      "['is', 'a', 'with', 'the', 'same', 'as', 'the', 'but', 'with', 'a', 'is']\n"
     ]
    }
   ],
   "source": [
    "str = \"Poincare's homology sphere is a closed 3-manifold with the same homology as the 3-sphere but with a fundamental group which is non-trivial\"\n",
    "for i in range(0,len(str)):\n",
    "    str1=str.split()\n",
    "print(str1)\n",
    "#str2 = [str.split() for i in range(len(str))]\n",
    "#print(str2)\n",
    "final_res = [i for i in str1 if len(i) <= 4]\n",
    "print(final_res)"
   ]
  },
  {
   "cell_type": "markdown",
   "metadata": {},
   "source": [
    "<span style=\"color:red\">2/2</span>**Exercise 5:** Recall that we can define a matrix using lists of lists. Use a nesting of list comprehension to make a new list that is the transpose of the matrix m = [[1,2,3],[4,5,6],[7,8,9]]. (The nesting means you will have transpose = [ [list comprehension statement] for value in list]"
   ]
  },
  {
   "cell_type": "code",
   "execution_count": 7,
   "metadata": {},
   "outputs": [
    {
     "name": "stdout",
     "output_type": "stream",
     "text": [
      "The transpose of the given matrix is: [[1, 4, 7], [2, 5, 8], [3, 6, 9]]\n"
     ]
    }
   ],
   "source": [
    "m = [[1,2,3],[4,5,6],[7,8,9]]\n",
    "final_res = [[m[j][i] for j in range(len(m))]for i in range(len(m))]\n",
    "print('The transpose of the given matrix is:', final_res)"
   ]
  },
  {
   "cell_type": "markdown",
   "metadata": {},
   "source": [
    "<span style=\"color:red\">2/2</span>**Exercise 6:** Write a lambda function $g$ that returns the cube of the argument you give it. "
   ]
  },
  {
   "cell_type": "code",
   "execution_count": 2,
   "metadata": {
    "cocalc": {
     "outputs": {
      "0": {
       "name": "input",
       "opts": {
        "password": false,
        "prompt": "Enter the number for calculating cube:"
       },
       "output_type": "stream",
       "value": "7"
      }
     }
    }
   },
   "outputs": [
    {
     "name": "stdout",
     "output_type": "stream",
     "text": [
      "Enter the number for calculating cube: 7The cube root of the given argument is: 343\n"
     ]
    }
   ],
   "source": [
    "a = int(input('Enter the number for calculating cube:'))\n",
    "g = (lambda a:a**3)(a)\n",
    "print('The cube root of the given argument is:',g)"
   ]
  },
  {
   "cell_type": "markdown",
   "metadata": {},
   "source": [
    "<span style=\"color:red\">2/2</span>**Exercise 7:** The filter(function, list) function in Python takes in a function and a list as arguments. This offers an nice way to filter out all the elements of a sequence for which the function returns True. Use the filter function and a lambda expression to filter out the even numbers in the list \n",
    "\n",
    "a_list = [2, 8, 5, 7, 22, 97, 54, 62, 77, 23, 73, 61] \n",
    "\n",
    "Recall that if you want to return a list you can wrap the expresssion in list() just as you would to turn something into an integer with int()."
   ]
  },
  {
   "cell_type": "code",
   "execution_count": 10,
   "metadata": {},
   "outputs": [
    {
     "name": "stdout",
     "output_type": "stream",
     "text": [
      "[2, 8, 22, 54, 62]\n"
     ]
    }
   ],
   "source": [
    "a_list = [2,8,5,7,22,97,54,62,77,23,73,61]\n",
    "f = filter(lambda x:x%2==0,a_list)\n",
    "print(list(f))"
   ]
  },
  {
   "cell_type": "markdown",
   "metadata": {},
   "source": [
    "<span style=\"color:red\">2/2</span>**Exercise 8:** Define two functions $addition$ and $multiplication$ that take in one value $x$ and add it to itself, and multiply it by itself. Make a list of these functions. Then, use list comprehension along with map( ) and a lambda expression inside to make a list of elements which are the the functions applied to the values in range 1 to 30. (Hint: Use a for loop to do this with map( ) first, and then figure out how to use list comprehension instead.)"
   ]
  },
  {
   "cell_type": "code",
   "execution_count": 16,
   "metadata": {},
   "outputs": [
    {
     "name": "stdout",
     "output_type": "stream",
     "text": [
      "Number is: 21\n",
      "Addition of number when adding to itself: 42\n",
      "Number is: 17\n",
      "Multiplication of number when multiplied by itelf: 289 \n",
      "\n",
      "List of numbers from 1 to 30 [1, 2, 3, 4, 5, 6, 7, 8, 9, 10, 11, 12, 13, 14, 15, 16, 17, 18, 19, 20, 21, 22, 23, 24, 25, 26, 27, 28, 29, 30]\n",
      "List of numbers when numbers of list are adding to itself: [2, 4, 6, 8, 10, 12, 14, 16, 18, 20, 22, 24, 26, 28, 30, 32, 34, 36, 38, 40, 42, 44, 46, 48, 50, 52, 54, 56, 58, 60]\n",
      "List of numbers when numbers are multiplying to itself: [1, 4, 9, 16, 25, 36, 49, 64, 81, 100, 121, 144, 169, 196, 225, 256, 289, 324, 361, 400, 441, 484, 529, 576, 625, 676, 729, 784, 841, 900]\n"
     ]
    }
   ],
   "source": [
    "import random\n",
    "def addition(x):\n",
    "    print('Number is:', x)\n",
    "    return x+x\n",
    "def multiplication(x):\n",
    "    print('Number is:', x)\n",
    "    return x*x\n",
    "\n",
    "print('Addition of number when adding to itself:', addition(random.randint(1,30)))\n",
    "print('Multiplication of number when multiplied by itelf:', multiplication(random.randint(1,30)),'\\n')\n",
    "\n",
    "#list of numbers from 1 to 30\n",
    "lst = []\n",
    "for n in range(1,31):\n",
    "    lst.append(n)\n",
    "print('List of numbers from 1 to 30', lst)\n",
    "\n",
    "add = list(map((lambda x:x+x),lst))\n",
    "print('List of numbers when numbers of list are adding to itself:', add)\n",
    "mul = list(map((lambda x:x*x),lst))\n",
    "print('List of numbers when numbers are multiplying to itself:', mul)"
   ]
  }
 ],
 "metadata": {
  "kernelspec": {
   "display_name": "Python 3",
   "language": "python",
   "name": "python3"
  },
  "language_info": {
   "codemirror_mode": {
    "name": "ipython",
    "version": 3
   },
   "file_extension": ".py",
   "mimetype": "text/x-python",
   "name": "python",
   "nbconvert_exporter": "python",
   "pygments_lexer": "ipython3",
   "version": "3.8.3"
  }
 },
 "nbformat": 4,
 "nbformat_minor": 1
}
