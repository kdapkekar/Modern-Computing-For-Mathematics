{
 "cells": [
  {
   "cell_type": "markdown",
   "metadata": {
    "collapsed": false
   },
   "source": [
    "# <span style=\"color:red\">6/6</span> Exercise 11: Sorting Algorithms"
   ]
  },
  {
   "cell_type": "markdown",
   "metadata": {
    "collapsed": false
   },
   "source": [
    "**Exercise 1:** The bubble sort algorthm sorts a list by going through the list in pairs, checks whether the element in the $j$-th entry is larger or smaller than the element in the $(j + 1)$-st entry, and swaps them to put the pair in ascending order. The algorithm continues until no elements are swapped. Implement this algorithm to sort the list \n",
    "\n",
    "$$a = [11,32,17,23,90,1,4,13] $$\n"
   ]
  },
  {
   "cell_type": "code",
   "execution_count": 8,
   "metadata": {
    "collapsed": false
   },
   "outputs": [
    {
     "name": "stdout",
     "output_type": "stream",
     "text": [
      "1 th pass\n",
      "[11, 17, 23, 32, 1, 4, 13, 90]\n",
      "2 th pass\n",
      "[11, 17, 23, 1, 4, 13, 32, 90]\n",
      "3 th pass\n",
      "[11, 17, 1, 4, 13, 23, 32, 90]\n",
      "4 th pass\n",
      "[11, 1, 4, 13, 17, 23, 32, 90]\n",
      "5 th pass\n",
      "[1, 4, 11, 13, 17, 23, 32, 90]\n",
      "6 th pass\n",
      "[1, 4, 11, 13, 17, 23, 32, 90]\n"
     ]
    }
   ],
   "source": [
    "a = [11,32,17,23,90,1,4,13]\n",
    "def bubbleSort(a):\n",
    "    for i in range(len(a)):\n",
    "        var = False\n",
    "        for j in range(len(a) - 1):\n",
    "            if a[j] > a[j+1]:\n",
    "                a[j],a[j+1] = a[j+1],a[j]\n",
    "                var = True\n",
    "        print(i+1,'th pass')\n",
    "        print(a)\n",
    "        if var == False:\n",
    "            return\n",
    "bubbleSort(a)"
   ]
  },
  {
   "cell_type": "markdown",
   "metadata": {
    "collapsed": false
   },
   "source": [
    "**Exercise 2:** What do you think the computational complexity of the bubble sort algorithm is? Give a brief discussion as to why you chose your answer."
   ]
  },
  {
   "cell_type": "markdown",
   "metadata": {
    "collapsed": false
   },
   "source": [
    "a) $O(n)$\n",
    "\n",
    "b) $O(log(n))$\n",
    "\n",
    "c) $O(n^2)$\n",
    "\n",
    "d) $O(n!)$"
   ]
  },
  {
   "cell_type": "markdown",
   "metadata": {
    "collapsed": false
   },
   "source": [
    "**Why?** "
   ]
  },
  {
   "cell_type": "markdown",
   "metadata": {
    "collapsed": false
   },
   "source": [
    "**Answer** is $O(n^2)$\n",
    "In the above code,the first for loop is for number of elements in the list. Suppose the number of elements are $n$. This loop will iterate till no elements are swapped.\n",
    "\n",
    "So for the first iteration of the outer loop,the inner loop will make **n-1** comparisons and with the help of swapping places the largest number at the end of the list.\n",
    "\n",
    "For the second iteration of the outer loop, inner loop will make **n-2** comparisons and places the second largest element before the largest one and it goes till **one** comparison.\n",
    "\n",
    "Therefore $$n-1 + n-2 + n-3 + .........+ 2 + 1 = \\frac{n(n-1)}{2}$$\n",
    "$$ = \\frac{n^2 - n}{2}$$\n",
    "$$ = O(n^2)$$\n",
    "\n",
    "This is the for the worst case when elements are sorted in descending order.\n",
    "\n",
    "For the elements which are sorted  in ascending order, no need of swapping. Therefore the computational complexity is $O(n)$.\n",
    "\n",
    "Average computational complexity is $O(n^2)$"
   ]
  },
  {
   "cell_type": "markdown",
   "metadata": {
    "collapsed": false
   },
   "source": [
    "**Exercise 3:** Provide comments for the selection sort code given in lecture. Include a docstring that gives an overview of how the function is sorting elements of the list."
   ]
  },
  {
   "cell_type": "code",
   "execution_count": 18,
   "metadata": {
    "collapsed": false
   },
   "outputs": [
    {
     "name": "stdout",
     "output_type": "stream",
     "text": [
      "1.First step to search for the smallest element in the list and place it at first position in the list.\n",
      "        first element is compared with all the elements in the list.\n",
      "2.Now search for the next smallest element in the list and place it at second position.\n",
      "        second element is compared with all the elements in the list.\n",
      "3.This is repeated untill the list is sorted.\n",
      "4.Once the list is sorted return the list.\n"
     ]
    }
   ],
   "source": [
    "def selSort(L):                                              #defining  function\n",
    "    \"\"\"1.First step to search for the smallest element in the list and place it at first position in the list.\n",
    "        first element is compared with all the elements in the list.\n",
    "2.Now search for the next smallest element in the list and place it at second position.\n",
    "        second element is compared with all the elements in the list.\n",
    "3.This is repeated untill the list is sorted.\n",
    "4.Once the list is sorted return the list.\"\"\"\n",
    "    suffixStart = 0                                          #intializing suffixstart with zero\n",
    "    while suffixStart != len(L):                             #iterates till suffixstart is not equal to length of the list\n",
    "        for i in range(suffixStart, len(L)):                 #iterates as many times as length of the list\n",
    "            if L[i] < L[suffixStart]:                        #comparing ith position with suffixstart\n",
    "                L[suffixStart], L[i] = L[i], L[suffixStart]  #swapping the smallest element at the start of the list\n",
    "        suffixStart += 1                                     #increasing count for suffixstart\n",
    "    return L                                                 #return the list\n",
    "print(selSort.__doc__)"
   ]
  }
 ],
 "metadata": {
  "kernelspec": {
   "display_name": "Python 3 (system-wide)",
   "language": "python",
   "metadata": {
    "cocalc": {
     "description": "Python 3 programming language",
     "priority": 100,
     "url": "https://www.python.org/"
    }
   },
   "name": "python3"
  },
  "language_info": {
   "codemirror_mode": {
    "name": "ipython",
    "version": 3
   },
   "file_extension": ".py",
   "mimetype": "text/x-python",
   "name": "python",
   "nbconvert_exporter": "python",
   "pygments_lexer": "ipython3",
   "version": "3.6.8"
  }
 },
 "nbformat": 4,
 "nbformat_minor": 0
}
