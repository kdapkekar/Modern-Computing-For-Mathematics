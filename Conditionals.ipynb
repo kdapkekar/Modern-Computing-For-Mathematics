{
 "cells": [
  {
   "cell_type": "markdown",
   "metadata": {},
   "source": [
    "# Exercises 2\n"
   ]
  },
  {
   "cell_type": "markdown",
   "metadata": {},
   "source": [
    "### Content\n",
    "\n",
    "* **Conditionals**\n",
    "\n",
    "* **Loops**"
   ]
  },
  {
   "cell_type": "markdown",
   "metadata": {},
   "source": [
    "**Exercise 1:** Write a function that takes in an integer $N$ and returns $\\sum_{i=0}^N \\frac{1}{i!}$"
   ]
  },
  {
   "cell_type": "code",
   "execution_count": 10,
   "metadata": {
    "cocalc": {
     "outputs": {
      "0": {
       "name": "input",
       "opts": {
        "password": false,
        "prompt": "Enter the number:"
       },
       "output_type": "stream",
       "value": "3"
      }
     }
    }
   },
   "outputs": [
    {
     "name": "stdout",
     "output_type": "stream",
     "text": [
      "Enter the number: 3The approximate value for the funtion is: 2.6666666666666665\n"
     ]
    }
   ],
   "source": [
    "N = int(input('Enter the number:'))\n",
    "def factorial(a):\n",
    "    res=1\n",
    "    for i in range(a,0,-1):\n",
    "        res=res*i\n",
    "    return res\n",
    "\n",
    "def summation(n):\n",
    "    sum=0.0\n",
    "    for i in range(n+1):\n",
    "        sum += 1.0/factorial(i)\n",
    "    print('The approximate value for the funtion is:', sum)\n",
    "\n",
    "summation(N)"
   ]
  },
  {
   "cell_type": "markdown",
   "metadata": {},
   "source": [
    "**Exercise 2:** Write a function that takes in an integer $n$ and computes the left hand Riemann sum of the function $f(x) = x^2$ on the interval [0,1]. \n",
    "\n",
    "Hint: compute the error from the true answer."
   ]
  },
  {
   "cell_type": "code",
   "execution_count": 4,
   "metadata": {
    "cocalc": {
     "outputs": {
      "0": {
       "name": "input",
       "opts": {
        "password": false,
        "prompt": "Enter the number of rectangle:"
       },
       "output_type": "stream",
       "value": "2"
      }
     }
    }
   },
   "outputs": [
    {
     "name": "stdout",
     "output_type": "stream",
     "text": [
      "Enter the number of rectangle: 2The left hand Riemann Sum is: 0.125\n"
     ]
    }
   ],
   "source": [
    "n = int(input('Enter the number of rectangle:'))\n",
    "a = 0\n",
    "b = 1\n",
    "\n",
    "def fun(x):\n",
    "    return x**2\n",
    "def lhs_sum(a, b, n):\n",
    "    l = b - a\n",
    "    delta_x = l/n\n",
    "    sum = 0\n",
    "    for i in range(n):\n",
    "        sum += fun(a+i*delta_x)*delta_x\n",
    "    return sum\n",
    "\n",
    "Riemann_sum = lhs_sum(a, b, n)\n",
    "print ('The left hand Riemann Sum is:', Riemann_sum)"
   ]
  },
  {
   "cell_type": "markdown",
   "metadata": {},
   "source": [
    "**Exercise 3:** To take input from the user we make use of a built-in function *input()*. This function takes in input from the user and returns the input as a string. Using the data type converter int(*value*), write a function that asks the user to input two integers (one integer and then another integer) and returns the difference of the two integers."
   ]
  },
  {
   "cell_type": "code",
   "execution_count": 1,
   "metadata": {
    "cocalc": {
     "outputs": {
      "0": {
       "name": "input",
       "opts": {
        "password": false,
        "prompt": "Enter the two values:"
       },
       "output_type": "stream",
       "value": "10 4"
      }
     }
    }
   },
   "outputs": [
    {
     "name": "stdout",
     "output_type": "stream",
     "text": [
      "Enter the two values: 10 4the difference is: 6\n"
     ]
    }
   ],
   "source": [
    "def difference():\n",
    "    a, b = input('Enter the two values:').split()\n",
    "    a, b = [int(a), int(b)]\n",
    "    return a-b\n",
    "c = difference()\n",
    "print ('the difference is:', c)"
   ]
  },
  {
   "cell_type": "markdown",
   "metadata": {},
   "source": [
    "**Exercise 4:** Write a program that has the user answer \"Do you like programming in Python?\". If the answer is \"yes\", then print \"That is great\". If the answer is \"No\" (i.e., not \"Yes\"), have the program output \"That is not the right answer.\""
   ]
  },
  {
   "cell_type": "code",
   "execution_count": 2,
   "metadata": {
    "cocalc": {
     "outputs": {
      "1": {
       "name": "input",
       "opts": {
        "password": false,
        "prompt": "Enter the answer in yes or no:"
       },
       "output_type": "stream",
       "value": "yes"
      }
     }
    }
   },
   "outputs": [
    {
     "name": "stdout",
     "output_type": "stream",
     "text": [
      "Do you like programming in python?\n",
      "Enter the answer in yes or no: yesThat is great\n"
     ]
    }
   ],
   "source": [
    "print('Do you like programming in python?')\n",
    "ans = input('Enter the answer in yes or no:')\n",
    "if ans == 'yes':\n",
    "    print('That is great')\n",
    "else:\n",
    "    print('That is not the right answer')"
   ]
  },
  {
   "cell_type": "markdown",
   "metadata": {},
   "source": [
    "**Exercise 5:** Write a python program to read three integers $(a,b,c)$ and check how many numbers between $a$ and $b$ are divisible by $c$.\n"
   ]
  },
  {
   "cell_type": "code",
   "execution_count": 23,
   "metadata": {
    "cocalc": {
     "outputs": {
      "0": {
       "name": "input",
       "opts": {
        "password": false,
        "prompt": "Enter three numbers:"
       },
       "output_type": "stream",
       "value": "3 10 3"
      }
     }
    }
   },
   "outputs": [
    {
     "name": "stdout",
     "output_type": "stream",
     "text": [
      "Enter three numbers: 3 10 32 numbers are divisible\n"
     ]
    }
   ],
   "source": [
    "a, b, c = input('Enter three numbers:').split()\n",
    "a, b, c = [int(a), int(b), int(c)]\n",
    "num = 0\n",
    "for i in range(a+1,b):\n",
    "    if i%c == 0:\n",
    "        num += 1\n",
    "print(num, 'numbers are divisible')"
   ]
  },
  {
   "cell_type": "markdown",
   "metadata": {},
   "source": [
    "**Exercise 6:** Write a python program that takes in three integers between 0 and 9 and prints out all possible permutations of those three numbers. Hint: It's okay to solve this exercise by listing all six permutations."
   ]
  },
  {
   "cell_type": "code",
   "execution_count": 1,
   "metadata": {},
   "outputs": [
    {
     "name": "stdout",
     "output_type": "stream",
     "text": [
      "[9, 5, 7]\n",
      "All possible permutations of three numbers are:\n",
      "9 5 7\n",
      "9 7 5\n",
      "5 9 7\n",
      "5 7 9\n",
      "7 9 5\n",
      "7 5 9\n"
     ]
    }
   ],
   "source": [
    "from random import *\n",
    "\n",
    "l = []\n",
    "for i in range(3):\n",
    "    a=randint(0, 9)\n",
    "    l.append(a)\n",
    "print(l)\n",
    "\n",
    "def permutation(l):\n",
    "    print('All possible permutations of three numbers are:')\n",
    "    for i in range(0,3):\n",
    "        for j in range(0,3):\n",
    "            for k in range(0,3):\n",
    "                if(i!=j&j!=k&k!=i):\n",
    "                    print(l[i],l[j],l[k])\n",
    "\n",
    "permutation(l)"
   ]
  },
  {
   "cell_type": "markdown",
   "metadata": {},
   "source": [
    "**Challenge Exercise (not graded):** Write a program dec_str(s) that takes in a string s of decimal numbers, separated by commas, e.g. s='1.5,6.4,3.8', and returns the sum of the *decimal* numbers. In our example, dec_str(s) should return 11.7.\n",
    "\n",
    "If the above exercise is too difficult, you should try to write a function first_float(s) that takes in a string s of decimal numbers separated by commas and returns the first decimal number before the comma as a float, i.e. first_float('1.5,6.4,3.8') should return 1.5."
   ]
  },
  {
   "cell_type": "code",
   "execution_count": 2,
   "metadata": {
    "cocalc": {
     "outputs": {
      "0": {
       "name": "input",
       "opts": {
        "password": false,
        "prompt": "Enter number of decimal numbers:"
       },
       "output_type": "stream"
      },
      "1": {
       "name": "input",
       "opts": {
        "password": false,
        "prompt": "Enter the decimal numbers:"
       },
       "output_type": "stream"
      }
     }
    }
   },
   "outputs": [
    {
     "name": "stdout",
     "output_type": "stream",
     "text": [
      "Enter number of decimal numbers: Enter the decimal numbers: "
     ]
    },
    {
     "ename": "TypeError",
     "evalue": "'str' object cannot be interpreted as an integer",
     "output_type": "error",
     "traceback": [
      "\u001b[0;31m---------------------------------------------------------------------------\u001b[0m",
      "\u001b[0;31mTypeError\u001b[0m                                 Traceback (most recent call last)",
      "\u001b[0;32m<ipython-input-2-52f35d32b8a9>\u001b[0m in \u001b[0;36m<module>\u001b[0;34m\u001b[0m\n\u001b[1;32m      1\u001b[0m \u001b[0mn\u001b[0m \u001b[0;34m=\u001b[0m \u001b[0minput\u001b[0m\u001b[0;34m(\u001b[0m\u001b[0;34m'Enter number of decimal numbers:'\u001b[0m\u001b[0;34m)\u001b[0m\u001b[0;34m\u001b[0m\u001b[0;34m\u001b[0m\u001b[0m\n\u001b[1;32m      2\u001b[0m \u001b[0ms\u001b[0m \u001b[0;34m=\u001b[0m \u001b[0minput\u001b[0m\u001b[0;34m(\u001b[0m\u001b[0;34m'Enter the decimal numbers:'\u001b[0m\u001b[0;34m)\u001b[0m\u001b[0;34m\u001b[0m\u001b[0;34m\u001b[0m\u001b[0m\n\u001b[0;32m----> 3\u001b[0;31m \u001b[0mx\u001b[0m \u001b[0;34m=\u001b[0m \u001b[0ms\u001b[0m\u001b[0;34m.\u001b[0m\u001b[0msplit\u001b[0m\u001b[0;34m(\u001b[0m\u001b[0;34m','\u001b[0m\u001b[0;34m,\u001b[0m \u001b[0mn\u001b[0m\u001b[0;34m)\u001b[0m\u001b[0;34m\u001b[0m\u001b[0;34m\u001b[0m\u001b[0m\n\u001b[0m\u001b[1;32m      4\u001b[0m \u001b[0;31m#def dec_str(s):\u001b[0m\u001b[0;34m\u001b[0m\u001b[0;34m\u001b[0m\u001b[0;34m\u001b[0m\u001b[0m\n\u001b[1;32m      5\u001b[0m     \u001b[0;31m#for i in range(0,n):\u001b[0m\u001b[0;34m\u001b[0m\u001b[0;34m\u001b[0m\u001b[0;34m\u001b[0m\u001b[0m\n",
      "\u001b[0;31mTypeError\u001b[0m: 'str' object cannot be interpreted as an integer"
     ]
    }
   ],
   "source": [
    "s = \n",
    "x = s.split(',', 3)\n",
    "def dec_str(s):\n",
    "    a, b, c = s.split(',',3)\n",
    "    a, b, c = [float(a), float(b), float(c)]\n",
    "    return a+b+c\n",
    "\n",
    "def first_float(x):\n",
    "    return x[0]\n",
    "\n",
    "y = first_float(x)\n",
    "print('The first decimal number is:', y)\n",
    "\n",
    "d = dec_str(s)\n",
    "print ('The sum of the decimal numbers:', d)\n"
   ]
  }
 ],
 "metadata": {
  "kernelspec": {
   "display_name": "Python 3",
   "language": "python",
   "name": "python3"
  },
  "language_info": {
   "codemirror_mode": {
    "name": "ipython",
    "version": 3
   },
   "file_extension": ".py",
   "mimetype": "text/x-python",
   "name": "python",
   "nbconvert_exporter": "python",
   "pygments_lexer": "ipython3",
   "version": "3.8.3"
  }
 },
 "nbformat": 4,
 "nbformat_minor": 1
}
