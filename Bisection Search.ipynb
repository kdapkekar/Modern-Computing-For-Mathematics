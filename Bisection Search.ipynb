{
 "cells": [
  {
   "cell_type": "markdown",
   "metadata": {},
   "source": [
    "# Lecture 3 Exercises <span style=\"color:red\">6/6</span>"
   ]
  },
  {
   "cell_type": "markdown",
   "metadata": {},
   "source": [
    "* Bisection search\n",
    "* Functions"
   ]
  },
  {
   "cell_type": "markdown",
   "metadata": {},
   "source": [
    "<span style=\"color:red\">2/2</span>**Exercise 1:** Given the following code, comment each line and then give an explanation of what the entire program does."
   ]
  },
  {
   "cell_type": "code",
   "execution_count": 1,
   "metadata": {},
   "outputs": [],
   "source": [
    "def f(x):                                     #this function is define to return the value of polynomial function for given parameter.\n",
    "    return 6*x**5-5*x**4-4*x**3+3*x**2        #returns the value of polynomial function for x.\n",
    "\n",
    "def df(x):                                    #this function is define for derivative of polynomial function used in above function.\n",
    "    return 30*x**4-20*x**3-12*x**2+6*x        #returns value of polynomial function for x.\n",
    "\n",
    "def dx(f, x):                                 #this is the function with two parameter, 1st parameter is function and 2nd is its argument.\n",
    "    return abs(f(x))                          #calls f(x) function and returns absolute value of the polynomial.\n",
    "\n",
    "def newtons_method(f, df, x0, e):             #this is the function with four parameters,defined to estimate functions root,first two parameters are function. \n",
    "    delta = dx(f, x0)                         #calls dx function and returns value to delta.\n",
    "    while delta > e:                          #loop iterates while the condition is true.\n",
    "        x0 = x0 - f(x0)/df(x0)                #formula for finding the root of the polynomial.\n",
    "        delta = dx(f, x0)                     #calls dx function and returns value to delta.\n",
    "    print('Root is at:', x0)                  #print function specifying where the root is!\n",
    "    print('f(x) at root is: ', f(x0))         #print function specifying the value of function at root.\n",
    "# this program finds the functions root for complicated polynomial."
   ]
  },
  {
   "cell_type": "markdown",
   "metadata": {},
   "source": [
    "<span style=\"color:red\">2/2</span>**Exercise 2:** Using the code from the lecture that computes the approximate square root of a number using bisection search, make a function *cubeRoot()* that takes in a real number and approximates its cube root."
   ]
  },
  {
   "cell_type": "code",
   "execution_count": 4,
   "metadata": {
    "cocalc": {
     "outputs": {
      "0": {
       "name": "input",
       "opts": {
        "password": false,
        "prompt": "Enter the number to find cube root:"
       },
       "output_type": "stream",
       "value": "6"
      }
     }
    }
   },
   "outputs": [
    {
     "name": "stdout",
     "output_type": "stream",
     "text": [
      "Enter the number to find cube root: 6The cube root of 6 is: 1.817138671875\n",
      "This took 12 gusses\n"
     ]
    }
   ],
   "source": [
    "x = int(input('Enter the number to find cube root:'))\n",
    "epsilon = 0.001\n",
    "l = 0\n",
    "r = x\n",
    "nguesses = 0\n",
    "guess = (r+l)/2.0\n",
    "def cubeRoot():\n",
    "    global l,r,nguesses,guess\n",
    "    while abs(guess**3 - x) > epsilon:\n",
    "        nguesses += 1\n",
    "        if guess**3 < x:\n",
    "            l = guess\n",
    "        else:\n",
    "            r = guess\n",
    "        guess = (r+l)/2.0\n",
    "    return guess,nguesses\n",
    "g, g1 = cubeRoot()\n",
    "print('The cube root of', x, 'is:', g)\n",
    "print('This took', g1, 'gusses')\n"
   ]
  },
  {
   "cell_type": "markdown",
   "metadata": {},
   "source": [
    "<span style=\"color:red\">2/2</span>**Exercise 3:** Notice that when we are using the bisection search method to find square roots, we are also finding approximate solutions to the equation $x^2 - a = 0$, where $a$ is the number we are finding the square root of. Use this and the intermediate value theorem to write a code that approximates a solution to $f(x) = x^3 - 4x + 1$ in the interval $[1,2]$."
   ]
  },
  {
   "cell_type": "code",
   "execution_count": 22,
   "metadata": {
    "cocalc": {
     "outputs": {
      "0": {
       "name": "input",
       "opts": {
        "password": false,
        "prompt": "start of interval"
       },
       "output_type": "stream",
       "value": "1"
      },
      "1": {
       "name": "input",
       "opts": {
        "password": false,
        "prompt": "End of interval"
       },
       "output_type": "stream",
       "value": "2"
      }
     }
    }
   },
   "outputs": [
    {
     "name": "stdout",
     "output_type": "stream",
     "text": [
      "start of interval 1End of interval 21.861328125\n",
      "The value of function at root 1 is: -2\n",
      "The value of function at root 1.861 is: 0.003\n",
      "The value of function at root 2 is: 1\n"
     ]
    }
   ],
   "source": [
    "def f(x):\n",
    "    return x**3 - 4*x + 1\n",
    "epsilon = 0.001\n",
    "a = int(input('start of interval'))\n",
    "b = int(input('End of interval'))\n",
    "fa = f(a)\n",
    "fb = f(b)\n",
    "if f(a)*f(b) > 0: \n",
    "    print('Cannot find the root')\n",
    "else:\n",
    "    while (b-a)/2.0 > epsilon: \n",
    "        m = (a+b)/2.0\n",
    "        if f(m) == 0:\n",
    "            print(m)\n",
    "        elif f(a)*f(m) < 0:\n",
    "            b = m\n",
    "        else:\n",
    "            a = m\n",
    "    print(m)\n",
    "print('The value of function at root 1 is:', fa)\n",
    "print('The value of function at root', round(m, 3), 'is:', round(f(m), 3))\n",
    "print('The value of function at root 2 is:', fb)"
   ]
  }
 ],
 "metadata": {
  "kernelspec": {
   "display_name": "Python 3",
   "language": "python",
   "name": "python3"
  },
  "language_info": {
   "codemirror_mode": {
    "name": "ipython",
    "version": 3
   },
   "file_extension": ".py",
   "mimetype": "text/x-python",
   "name": "python",
   "nbconvert_exporter": "python",
   "pygments_lexer": "ipython3",
   "version": "3.8.3"
  }
 },
 "nbformat": 4,
 "nbformat_minor": 1
}
