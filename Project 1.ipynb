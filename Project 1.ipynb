{
 "cells": [
  {
   "cell_type": "markdown",
   "metadata": {
    "collapsed": false
   },
   "source": [
    "(1) The Division Algorithm: If $a,b \\in \\mathbb{Z}$ and $b \\neq 0$, then there exists unique $q,r \\in \\mathbb{Z}$ such that\n",
    "\n",
    "\\[a = qb + r\\; \\text{and} \\; 0 \\leq r < |b| \\]\n",
    "\n",
    "Write a program division that takes in two integers $a,b$ and divides the larger integer by the smaller one and returns the quotient and remainder.\n"
   ]
  },
  {
   "cell_type": "code",
   "execution_count": 2,
   "metadata": {
    "cocalc": {
     "outputs": {
      "0": {
       "name": "input",
       "opts": {
        "password": false,
        "prompt": "Enter the larger number:"
       },
       "output_type": "stream",
       "value": "89"
      },
      "1": {
       "name": "input",
       "opts": {
        "password": false,
        "prompt": "Enter the smaller number:"
       },
       "output_type": "stream",
       "value": "42"
      }
     }
    },
    "collapsed": false
   },
   "outputs": [
    {
     "name": "stdout",
     "output_type": "stream",
     "text": "Enter the larger number: 89"
    },
    {
     "name": "stdout",
     "output_type": "stream",
     "text": "Enter the smaller number: 42"
    },
    {
     "name": "stdout",
     "output_type": "stream",
     "text": [
      "The quotient is: 2\n",
      "The remainder is: 5\n",
      "crosschecking \n",
      " The value of \"a\" i.e. the largest number is 89\n"
     ]
    }
   ],
   "source": [
    "a1 = int(input('Enter the larger number:'))\n",
    "b1 = int(input('Enter the smaller number:'))\n",
    "def div(a,b):                                   #function for division algorithm.\n",
    "    if b == 0:\n",
    "        print('b cannot be equal to zero:')\n",
    "    else:\n",
    "        q = a//b                                #quotient when \"a\" is divided by \"b\".\n",
    "        r = a%b                                 #remainder when \"a\" is divided by \"b\"\n",
    "    print('The quotient is:', q)\n",
    "    print('The remainder is:', r)\n",
    "    n = q*b+r                                   #cross verifying the value of \"a\"\n",
    "    print('crosschecking \\n The value of \"a\" i.e. the largest number is', n)\n",
    "div(a1,b1)"
   ]
  },
  {
   "cell_type": "markdown",
   "metadata": {
    "collapsed": false
   },
   "source": [
    "(2) The Euclidean Algorithm: The Euclidean algorithm gives us a procedure that takes in two integers $a,b$ and produces greatest common divisor, $gcd(a,b)$ using the division algorithm as follows:\n",
    "\n",
    "\n",
    "If $a,b \\in \\mathbb{z} \\setminus \\{0\\}$, then we obtain a sequence of quotients and remainders\n",
    "\n",
    "\\begin{eqnarray*}\n",
    "    a &= q_0b + r_{0} \\\\\n",
    "    b &= q_1r_0 + r_{1} \\\\\n",
    "    &\\vdots\\\\\n",
    "    r_{n-2} &= q_{n}r_{n-1} + r_{n} \\\\\n",
    "    r_{n-1} &= q_{n+1}r_{n}\n",
    "\\end{eqnarray*}\n",
    "\n",
    "Then $r_n$ = gcd($a,b$). Using the algorithm above and division algorithm, write a program ea_gcd who takes in two non zero integers and produce $\\gcd$."
   ]
  },
  {
   "cell_type": "code",
   "execution_count": 4,
   "metadata": {
    "cocalc": {
     "outputs": {
      "0": {
       "name": "input",
       "opts": {
        "password": false,
        "prompt": "Enter the larger number:"
       },
       "output_type": "stream",
       "value": "69"
      },
      "1": {
       "name": "input",
       "opts": {
        "password": false,
        "prompt": "Enter the smaller number:"
       },
       "output_type": "stream",
       "value": "299"
      }
     }
    },
    "collapsed": false
   },
   "outputs": [
    {
     "name": "stdout",
     "output_type": "stream",
     "text": "Enter the larger number: 69"
    },
    {
     "name": "stdout",
     "output_type": "stream",
     "text": "Enter the smaller number: 299"
    },
    {
     "name": "stdout",
     "output_type": "stream",
     "text": [
      "The greatest common divisor for two numbers 69 and 299 is 23\n"
     ]
    }
   ],
   "source": [
    "a = int(input('Enter the larger number:'))\n",
    "b = int(input('Enter the smaller number:'))\n",
    "def ea_gcd(n1,n2):                            #function for euclidean algorithm.\n",
    "    r = n1%n2                                 #remainder when \"a\" is divided by \"b\".\n",
    "    if n1%n2 == 0:                            #remainder is zero.\n",
    "        return n2\n",
    "    while r!=0:                               #loop iterates while the condition is true that is remainder is not equal to zero.\n",
    "        n1 = n2\n",
    "        n2 = r\n",
    "        r = n1%n2\n",
    "    return n2\n",
    "n = ea_gcd(a,b)                               #returns the greatest common divisor\n",
    "print('The greatest common divisor for two numbers', a, 'and', b, 'is', n)"
   ]
  },
  {
   "cell_type": "markdown",
   "metadata": {
    "collapsed": false
   },
   "source": [
    "(3) Prove that if $a > b$ then gcd($a,b$) = gcd($b, a \\,\\text{mod}\\, $b)."
   ]
  },
  {
   "cell_type": "code",
   "execution_count": 14,
   "metadata": {
    "cocalc": {
     "outputs": {
      "0": {
       "name": "input",
       "opts": {
        "password": false,
        "prompt": "Enter the larger number:"
       },
       "output_type": "stream",
       "value": "69"
      },
      "1": {
       "name": "input",
       "opts": {
        "password": false,
        "prompt": "Enter the smaller number:"
       },
       "output_type": "stream",
       "value": "299"
      }
     }
    },
    "collapsed": false
   },
   "outputs": [
    {
     "name": "stdout",
     "output_type": "stream",
     "text": "Enter the larger number: 69"
    },
    {
     "name": "stdout",
     "output_type": "stream",
     "text": "Enter the smaller number: 299"
    },
    {
     "name": "stdout",
     "output_type": "stream",
     "text": [
      "GCD(a,b) is: 23\n",
      "GCD(b,a mod b): 23\n",
      "Hence proved,gcd(a,b) = gcd(b,a mod b) \n"
     ]
    }
   ],
   "source": [
    "a = int(input('Enter the larger number:'))\n",
    "b = int(input('Enter the smaller number:'))\n",
    "def ea_gcd1(n1,n2):                                  #function for euclidean algorithm.\n",
    "    if n2 == 0:\n",
    "        return n1\n",
    "    r = n1%n2\n",
    "    if n1%n2 == 0:\n",
    "        return n2\n",
    "    while r!=0:\n",
    "        n1 = n2\n",
    "        n2 = r\n",
    "        r = n1%n2\n",
    "    return n2\n",
    "c=ea_gcd1(a,b)                                        #calculating gcd for \"a\" and \"b\".\n",
    "if a%b == 0:\n",
    "    d=ea_gcd1(b,0)                                    #integer division or modulo by zero is not possible so \"0\" passed as argument instead of (a mod b).\n",
    "else:\n",
    "    d=ea_gcd1(b,a%b)                                  #calculating gcd for \"b\" and (a mod b)\n",
    "print('GCD(a,b) is:', c)\n",
    "print('GCD(b,a mod b):', d)\n",
    "if c==d:                                              #comparing values for gcd(a,b) and gcd(b, a mod b)\n",
    "    print('Hence proved,gcd(a,b) = gcd(b,a mod b) ')\n",
    "else:\n",
    "    print('Not Proved')"
   ]
  },
  {
   "cell_type": "markdown",
   "metadata": {
    "collapsed": false
   },
   "source": [
    "(4) Using part 3, Write a recursive function gcd that computes the gcd of two  integers $a,b$."
   ]
  },
  {
   "cell_type": "code",
   "execution_count": 6,
   "metadata": {
    "cocalc": {
     "outputs": {
      "0": {
       "name": "input",
       "opts": {
        "password": false,
        "prompt": "Enter the larger number:"
       },
       "output_type": "stream",
       "value": "100"
      },
      "1": {
       "name": "input",
       "opts": {
        "password": false,
        "prompt": "Enter the smaller number:"
       },
       "output_type": "stream",
       "value": "350"
      }
     }
    },
    "collapsed": false
   },
   "outputs": [
    {
     "name": "stdout",
     "output_type": "stream",
     "text": "Enter the larger number: 100"
    },
    {
     "name": "stdout",
     "output_type": "stream",
     "text": "Enter the smaller number: 350"
    },
    {
     "name": "stdout",
     "output_type": "stream",
     "text": [
      "The greatest common divisor for two numbers 100 and 350 is 50\n"
     ]
    }
   ],
   "source": [
    "a = int(input('Enter the larger number:'))\n",
    "b = int(input('Enter the smaller number:'))\n",
    "def gcd(a1,b1):\n",
    "    if a1%b1 == 0:\n",
    "        return b1\n",
    "    else:\n",
    "        return gcd(b1,a1%b1)                       #function calling itself.\n",
    "c=gcd(a,b)                                         #calculating greatest common divisor using recurcise function.\n",
    "print('The greatest common divisor for two numbers', a, 'and', b, 'is', c)"
   ]
  },
  {
   "cell_type": "code",
   "execution_count": 7,
   "metadata": {
    "collapsed": false
   },
   "outputs": [
    {
     "name": "stdout",
     "output_type": "stream",
     "text": [
      "The quotient is: 10\n",
      "The remainder is: 0\n",
      "crosschecking \n",
      " The value of \"a\" i.e. the largest number is 40\n"
     ]
    },
    {
     "data": {
      "text/plain": [
       "7"
      ]
     },
     "execution_count": 7,
     "metadata": {
     },
     "output_type": "execute_result"
    }
   ],
   "source": [
    "div(40,4)\n",
    "ea_gcd(77,11)\n",
    "ea_gcd1(69,299)\n",
    "gcd(49,56)"
   ]
  }
 ],
 "metadata": {
  "kernelspec": {
   "display_name": "Python 3 (system-wide)",
   "language": "python",
   "metadata": {
    "cocalc": {
     "description": "Python 3 programming language",
     "priority": 100,
     "url": "https://www.python.org/"
    }
   },
   "name": "python3"
  },
  "language_info": {
   "codemirror_mode": {
    "name": "ipython",
    "version": 3
   },
   "file_extension": ".py",
   "mimetype": "text/x-python",
   "name": "python",
   "nbconvert_exporter": "python",
   "pygments_lexer": "ipython3",
   "version": "3.6.8"
  }
 },
 "nbformat": 4,
 "nbformat_minor": 0
}